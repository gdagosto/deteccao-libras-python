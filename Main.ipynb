{
    "cells": [
        {
            "cell_type": "code",
            "execution_count": null,
            "source": [
                "# from src.hand_tracking import HandDetector\r\n",
                "from src.libras_detector import LibrasDetector\r\n",
                "import time\r\n",
                "import cv2\r\n",
                "\r\n",
                "\r\n",
                "def main():\r\n",
                "    cap = cv2.VideoCapture(0)\r\n",
                "    detector = LibrasDetector(max_num_hands=1)\r\n",
                "\r\n",
                "    t0 = 0\r\n",
                "    t1 = time.time()\r\n",
                "\r\n",
                "    while True:\r\n",
                "        sucesso,img = cap.read()\r\n",
                "\r\n",
                "        t0 = t1\r\n",
                "        t1 = time.time()\r\n",
                "        fps = 1/(t1-t0)\r\n",
                "\r\n",
                "\r\n",
                "        img = detector.find_hands(img, False)\r\n",
                "\r\n",
                "        mao0 = detector.find_position(img)\r\n",
                "\r\n",
                "        numDedos = 0\r\n",
                "        if len(mao0) > 0:\r\n",
                "            numDedos = detector.find_raised_fingers(mao0)\r\n",
                "\r\n",
                "        cv2.putText(img,\r\n",
                "                    str(numDedos),\r\n",
                "                    (10, 70),  # Posição\r\n",
                "                    cv2.FONT_HERSHEY_PLAIN,  # fonte\r\n",
                "                    3,  # Tamanho\r\n",
                "                    (255, 0, 0),  # Cor\r\n",
                "                    5  # Grossura\r\n",
                "                    )\r\n",
                "\r\n",
                "        cv2.imshow('Imagem', img)\r\n",
                "        cv2.waitKey(1)\r\n",
                "\r\n",
                "main()\r\n"
            ],
            "outputs": [],
            "metadata": {}
        }
    ],
    "metadata": {
        "orig_nbformat": 4,
        "language_info": {
            "name": "python"
        }
    },
    "nbformat": 4,
    "nbformat_minor": 2
}