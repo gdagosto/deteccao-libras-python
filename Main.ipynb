{
    "cells": [
        {
            "cell_type": "code",
            "execution_count": 1,
            "source": [
                "# from src.hand_tracking import HandDetector\r\n",
                "from src.libras_detector import LibrasDetector\r\n",
                "import time\r\n",
                "import cv2\r\n",
                "\r\n",
                "\r\n",
                "def main():\r\n",
                "    cap = cv2.VideoCapture(0)\r\n",
                "    detector = LibrasDetector()\r\n",
                "\r\n",
                "    t0 = 0\r\n",
                "    t1 = time.time()\r\n",
                "\r\n",
                "    while True:\r\n",
                "        sucesso,img = cap.read()\r\n",
                "\r\n",
                "        t0 = t1\r\n",
                "        t1 = time.time()\r\n",
                "        fps = 1/(t1-t0)\r\n",
                "\r\n",
                "        img = detector.find_hands(img)\r\n",
                "\r\n",
                "        maos = detector.find_position(img)\r\n",
                "\r\n",
                "        numDedos = 0\r\n",
                "        for mao in maos:\r\n",
                "            numDedos = detector.find_raised_fingers(mao)\r\n",
                "\r\n",
                "        cv2.putText(img, str(numDedos),(10, 70), cv2.FONT_HERSHEY_PLAIN, 3, (255, 0, 0), 5)\r\n",
                "        cv2.imshow('Imagem', img)\r\n",
                "        if cv2.waitKey(1) == 27:\r\n",
                "            break\r\n",
                "    cv2.destroyAllWindows()\r\n",
                "    cap.release()\r\n",
                "main()\r\n"
            ],
            "outputs": [],
            "metadata": {}
        },
        {
            "cell_type": "code",
            "execution_count": null,
            "source": [],
            "outputs": [],
            "metadata": {}
        }
    ],
    "metadata": {
        "orig_nbformat": 4,
        "language_info": {
            "name": "python",
            "version": "3.8.2",
            "mimetype": "text/x-python",
            "codemirror_mode": {
                "name": "ipython",
                "version": 3
            },
            "pygments_lexer": "ipython3",
            "nbconvert_exporter": "python",
            "file_extension": ".py"
        },
        "kernelspec": {
            "name": "python3",
            "display_name": "Python 3.8.2 64-bit ('dataScienceDegree': conda)"
        },
        "interpreter": {
            "hash": "a1c2add8d8e9dc2b260337e78ee33b0506237df6c056ce7b145a9585b9762e11"
        }
    },
    "nbformat": 4,
    "nbformat_minor": 2
}