{
    "cells": [
        {
            "cell_type": "code",
            "execution_count": 1,
            "source": [
                "!pip install opencv-python\r\n",
                "!pip install mediapipe"
            ],
            "outputs": [
                {
                    "output_type": "stream",
                    "name": "stdout",
                    "text": [
                        "Collecting opencv-python\n",
                        "  Downloading opencv_python-4.5.3.56-cp38-cp38-win_amd64.whl (34.9 MB)\n",
                        "Requirement already satisfied: numpy>=1.17.3 in c:\\users\\gabriel\\anaconda3\\envs\\datasciencedegree\\lib\\site-packages (from opencv-python) (1.20.3)\n",
                        "Installing collected packages: opencv-python\n",
                        "Successfully installed opencv-python-4.5.3.56\n",
                        "Collecting mediapipe\n",
                        "  Downloading mediapipe-0.8.6-cp38-cp38-win_amd64.whl (48.1 MB)\n",
                        "Collecting opencv-contrib-python\n",
                        "  Downloading opencv_contrib_python-4.5.3.56-cp38-cp38-win_amd64.whl (41.8 MB)\n",
                        "Requirement already satisfied: numpy in c:\\users\\gabriel\\anaconda3\\envs\\datasciencedegree\\lib\\site-packages (from mediapipe) (1.20.3)\n",
                        "Collecting protobuf>=3.11.4\n",
                        "  Downloading protobuf-3.17.3-cp38-cp38-win_amd64.whl (909 kB)\n",
                        "Collecting matplotlib\n",
                        "  Downloading matplotlib-3.4.2-cp38-cp38-win_amd64.whl (7.1 MB)\n",
                        "Requirement already satisfied: attrs>=19.1.0 in c:\\users\\gabriel\\anaconda3\\envs\\datasciencedegree\\lib\\site-packages (from mediapipe) (21.2.0)\n",
                        "Collecting absl-py\n",
                        "  Downloading absl_py-0.13.0-py3-none-any.whl (132 kB)\n",
                        "Requirement already satisfied: six in c:\\users\\gabriel\\appdata\\roaming\\python\\python38\\site-packages (from mediapipe) (1.16.0)\n",
                        "Requirement already satisfied: wheel in c:\\users\\gabriel\\anaconda3\\envs\\datasciencedegree\\lib\\site-packages (from mediapipe) (0.36.2)\n",
                        "Collecting pillow>=6.2.0\n",
                        "  Downloading Pillow-8.3.1-1-cp38-cp38-win_amd64.whl (3.2 MB)\n",
                        "Collecting kiwisolver>=1.0.1\n",
                        "  Downloading kiwisolver-1.3.1-cp38-cp38-win_amd64.whl (51 kB)\n",
                        "Collecting pyparsing>=2.2.1\n",
                        "  Downloading pyparsing-2.4.7-py2.py3-none-any.whl (67 kB)\n",
                        "Requirement already satisfied: python-dateutil>=2.7 in c:\\users\\gabriel\\appdata\\roaming\\python\\python38\\site-packages (from matplotlib->mediapipe) (2.8.1)\n",
                        "Collecting cycler>=0.10\n",
                        "  Downloading cycler-0.10.0-py2.py3-none-any.whl (6.5 kB)\n",
                        "Installing collected packages: pyparsing, pillow, kiwisolver, cycler, protobuf, opencv-contrib-python, matplotlib, absl-py, mediapipe\n",
                        "Successfully installed absl-py-0.13.0 cycler-0.10.0 kiwisolver-1.3.1 matplotlib-3.4.2 mediapipe-0.8.6 opencv-contrib-python-4.5.3.56 pillow-8.3.1 protobuf-3.17.3 pyparsing-2.4.7\n"
                    ]
                }
            ],
            "metadata": {}
        },
        {
            "cell_type": "code",
            "execution_count": 2,
            "source": [
                "import cv2\r\n",
                "import mediapipe as mp\r\n",
                "import time\r\n",
                "\r\n"
            ],
            "outputs": [],
            "metadata": {}
        },
        {
            "cell_type": "code",
            "execution_count": 3,
            "source": [
                "cap = cv2.VideoCapture(0)\r\n",
                "\r\n",
                "mp_hands = mp.solutions.hands\r\n",
                "\r\n",
                "hands = mp_hands.Hands()\r\n",
                "\r\n",
                "mp_draw = mp.solutions.drawing_utils\r\n",
                "DrawingSpec = mp.solutions.drawing_utils.DrawingSpec\r\n",
                "\r\n",
                "t0 = 0\r\n",
                "t1 = time.time()\r\n",
                "\r\n",
                "while True:\r\n",
                "    sucesso, img = cap.read()\r\n",
                "\r\n",
                "    img_rgb = cv2.cvtColor(img, cv2.COLOR_BGR2RGB)\r\n",
                "    results = hands.process(img_rgb)\r\n",
                "\r\n",
                "    t0 = t1\r\n",
                "    t1 = time.time()\r\n",
                "    fps = 1/(t1-t0)\r\n",
                "\r\n",
                "    h, w, c = img.shape # h: altura, w: largura, c: colorChannels\r\n",
                "\r\n",
                "    if (results.multi_hand_landmarks):\r\n",
                "        for hand_num, hand_landmark in enumerate(results.multi_hand_landmarks):\r\n",
                "            for _id, landmark in enumerate(hand_landmark.landmark):\r\n",
                "                cx, cy = int(landmark.x*w), int(landmark.y * h)\r\n",
                "                mp_draw.draw_landmarks(\r\n",
                "                    img, \r\n",
                "                    hand_landmark, \r\n",
                "                    mp_hands.HAND_CONNECTIONS)\r\n",
                "\r\n",
                "    cv2.putText(img, \r\n",
                "                str(int(fps)),\r\n",
                "                (10,70), # Posição\r\n",
                "                cv2.FONT_HERSHEY_PLAIN, # fonte\r\n",
                "                3, # Tamanho\r\n",
                "                (255,0,0), # Cor \r\n",
                "                5 # Grossura\r\n",
                "                )\r\n",
                "\r\n",
                "    cv2.imshow(\"Imagem\",img)\r\n",
                "    cv2.waitKey(1)\r\n",
                "\r\n"
            ],
            "outputs": [
                {
                    "output_type": "error",
                    "ename": "KeyboardInterrupt",
                    "evalue": "",
                    "traceback": [
                        "\u001b[1;31m---------------------------------------------------------------------------\u001b[0m",
                        "\u001b[1;31mKeyboardInterrupt\u001b[0m                         Traceback (most recent call last)",
                        "\u001b[1;32m<ipython-input-3-aff1cc65d946>\u001b[0m in \u001b[0;36m<module>\u001b[1;34m\u001b[0m\n\u001b[0;32m     11\u001b[0m \u001b[1;33m\u001b[0m\u001b[0m\n\u001b[0;32m     12\u001b[0m     \u001b[0mimg_rgb\u001b[0m \u001b[1;33m=\u001b[0m \u001b[0mcv2\u001b[0m\u001b[1;33m.\u001b[0m\u001b[0mcvtColor\u001b[0m\u001b[1;33m(\u001b[0m\u001b[0mimg\u001b[0m\u001b[1;33m,\u001b[0m \u001b[0mcv2\u001b[0m\u001b[1;33m.\u001b[0m\u001b[0mCOLOR_BGR2RGB\u001b[0m\u001b[1;33m)\u001b[0m\u001b[1;33m\u001b[0m\u001b[1;33m\u001b[0m\u001b[0m\n\u001b[1;32m---> 13\u001b[1;33m     \u001b[0mresults\u001b[0m \u001b[1;33m=\u001b[0m \u001b[0mhands\u001b[0m\u001b[1;33m.\u001b[0m\u001b[0mprocess\u001b[0m\u001b[1;33m(\u001b[0m\u001b[0mimg_rgb\u001b[0m\u001b[1;33m)\u001b[0m\u001b[1;33m\u001b[0m\u001b[1;33m\u001b[0m\u001b[0m\n\u001b[0m\u001b[0;32m     14\u001b[0m \u001b[1;33m\u001b[0m\u001b[0m\n\u001b[0;32m     15\u001b[0m     \u001b[1;32mif\u001b[0m \u001b[1;33m(\u001b[0m\u001b[0mresults\u001b[0m\u001b[1;33m.\u001b[0m\u001b[0mmulti_hand_landmarks\u001b[0m\u001b[1;33m)\u001b[0m\u001b[1;33m:\u001b[0m\u001b[1;33m\u001b[0m\u001b[1;33m\u001b[0m\u001b[0m\n",
                        "\u001b[1;32m~\\anaconda3\\envs\\dataScienceDegree\\lib\\site-packages\\mediapipe\\python\\solutions\\hands.py\u001b[0m in \u001b[0;36mprocess\u001b[1;34m(self, image)\u001b[0m\n\u001b[0;32m    162\u001b[0m     \"\"\"\n\u001b[0;32m    163\u001b[0m \u001b[1;33m\u001b[0m\u001b[0m\n\u001b[1;32m--> 164\u001b[1;33m     \u001b[1;32mreturn\u001b[0m \u001b[0msuper\u001b[0m\u001b[1;33m(\u001b[0m\u001b[1;33m)\u001b[0m\u001b[1;33m.\u001b[0m\u001b[0mprocess\u001b[0m\u001b[1;33m(\u001b[0m\u001b[0minput_data\u001b[0m\u001b[1;33m=\u001b[0m\u001b[1;33m{\u001b[0m\u001b[1;34m'image'\u001b[0m\u001b[1;33m:\u001b[0m \u001b[0mimage\u001b[0m\u001b[1;33m}\u001b[0m\u001b[1;33m)\u001b[0m\u001b[1;33m\u001b[0m\u001b[1;33m\u001b[0m\u001b[0m\n\u001b[0m",
                        "\u001b[1;32m~\\anaconda3\\envs\\dataScienceDegree\\lib\\site-packages\\mediapipe\\python\\solution_base.py\u001b[0m in \u001b[0;36mprocess\u001b[1;34m(self, input_data)\u001b[0m\n\u001b[0;32m    316\u001b[0m             f'type is not supported yet.')\n\u001b[0;32m    317\u001b[0m \u001b[1;33m\u001b[0m\u001b[0m\n\u001b[1;32m--> 318\u001b[1;33m     \u001b[0mself\u001b[0m\u001b[1;33m.\u001b[0m\u001b[0m_graph\u001b[0m\u001b[1;33m.\u001b[0m\u001b[0mwait_until_idle\u001b[0m\u001b[1;33m(\u001b[0m\u001b[1;33m)\u001b[0m\u001b[1;33m\u001b[0m\u001b[1;33m\u001b[0m\u001b[0m\n\u001b[0m\u001b[0;32m    319\u001b[0m     \u001b[1;31m# Create a NamedTuple object where the field names are mapping to the graph\u001b[0m\u001b[1;33m\u001b[0m\u001b[1;33m\u001b[0m\u001b[1;33m\u001b[0m\u001b[0m\n\u001b[0;32m    320\u001b[0m     \u001b[1;31m# output stream names.\u001b[0m\u001b[1;33m\u001b[0m\u001b[1;33m\u001b[0m\u001b[1;33m\u001b[0m\u001b[0m\n",
                        "\u001b[1;31mKeyboardInterrupt\u001b[0m: "
                    ]
                }
            ],
            "metadata": {}
        }
    ],
    "metadata": {
        "orig_nbformat": 4,
        "language_info": {
            "name": "python"
        }
    },
    "nbformat": 4,
    "nbformat_minor": 2
}